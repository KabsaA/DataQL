{
 "cells": [
  {
   "cell_type": "code",
   "execution_count": 16,
   "metadata": {},
   "outputs": [
    {
     "name": "stdout",
     "output_type": "stream",
     "text": [
      "{'key1': 'this is the value for key1', 'key2': ['this', 'is', 'the', 'value', 'for', 'key', 2], 'third': 46789}\n"
     ]
    }
   ],
   "source": [
    "myDictionary = {\n",
    "    \"key1\":\"this is the value for key1\",\n",
    "    \"key2\":[\"this\",\"is\",\"the\",\"value\",\"for\",\"key\",2],\n",
    "    \"third\":46789\n",
    "}\n",
    "\n",
    "print(myDictionary)"
   ]
  },
  {
   "cell_type": "code",
   "execution_count": 17,
   "metadata": {},
   "outputs": [
    {
     "data": {
      "text/plain": [
       "'this is the value for key1'"
      ]
     },
     "execution_count": 17,
     "metadata": {},
     "output_type": "execute_result"
    }
   ],
   "source": [
    "\n",
    "\n",
    "myDictionary[\"key1\"]"
   ]
  },
  {
   "cell_type": "code",
   "execution_count": 18,
   "metadata": {},
   "outputs": [
    {
     "name": "stdout",
     "output_type": "stream",
     "text": [
      "{'key1': 'this is the new value for key1', 'key2': ['this', 'is', 'the', 'value', 'for', 'key', 2], 'third': 46789}\n"
     ]
    }
   ],
   "source": [
    "\n",
    "myDictionary[\"key1\"] = \"this is the new value for key1\"\n",
    "print(myDictionary)"
   ]
  },
  {
   "cell_type": "code",
   "execution_count": 19,
   "metadata": {},
   "outputs": [
    {
     "name": "stdout",
     "output_type": "stream",
     "text": [
      "{'key1': 'this is the new value for key1', 'key2': ['this', 'is', 'the', 'value', 'for', 'key', 2], 'third': 46789, 'new key': 'this a new value for a new key'}\n"
     ]
    }
   ],
   "source": [
    "\n",
    "myDictionary[\"new key\"] = \"this a new value for a new key\"\n",
    "print(myDictionary)"
   ]
  },
  {
   "cell_type": "code",
   "execution_count": 20,
   "metadata": {},
   "outputs": [
    {
     "name": "stdout",
     "output_type": "stream",
     "text": [
      "key1 is in the dictionary\n"
     ]
    }
   ],
   "source": [
    "\n",
    "\n",
    "if \"key1\" in myDictionary:\n",
    "    print(\"key1 is in the dictionary\")\n",
    "else:\n",
    "    print(\"key1 not in the dictionary\")"
   ]
  },
  {
   "cell_type": "code",
   "execution_count": 21,
   "metadata": {},
   "outputs": [],
   "source": [
    "#myDictionary[\"key that doesn't exist\"]"
   ]
  },
  {
   "cell_type": "code",
   "execution_count": 9,
   "metadata": {},
   "outputs": [
    {
     "name": "stdout",
     "output_type": "stream",
     "text": [
      "the key wasn't in the dictionary and yay we avoided an error!\n"
     ]
    }
   ],
   "source": [
    "#this is why it's useful to check:\n",
    "if \"key that doesn't exist\" in myDictionary:\n",
    "    print(myDictionary[\"key that doesn't exist\"])\n",
    "else:\n",
    "    print(\"the key wasn't in the dictionary and yay we avoided an error!\")"
   ]
  },
  {
   "cell_type": "code",
   "execution_count": 22,
   "metadata": {},
   "outputs": [
    {
     "name": "stdout",
     "output_type": "stream",
     "text": [
      "key1\n",
      "key2\n",
      "third\n",
      "new key\n"
     ]
    }
   ],
   "source": [
    "\n",
    "\n",
    "#Syntax:\n",
    "for item in myDictionary:\n",
    "    print(item)"
   ]
  },
  {
   "cell_type": "code",
   "execution_count": 12,
   "metadata": {},
   "outputs": [
    {
     "name": "stdout",
     "output_type": "stream",
     "text": [
      "key: key1\n",
      "this is the new value for key1\n",
      "key: key2\n",
      "['this', 'is', 'the', 'value', 'for', 'key', 2]\n",
      "key: third\n",
      "46789\n",
      "key: new key\n",
      "this a new value for a new key\n"
     ]
    }
   ],
   "source": [
    "\n",
    "\n",
    "for key in myDictionary:\n",
    "    print(\"key: \" + key)\n",
    "\n",
    "    print(myDictionary[key])"
   ]
  },
  {
   "cell_type": "code",
   "execution_count": 1,
   "metadata": {},
   "outputs": [
    {
     "name": "stdout",
     "output_type": "stream",
     "text": [
      "['this', 'is', 'a', 'long', 'sentence', 'pretend', 'this', 'is', 'a', 'review', 'from', 'mamazon']\n"
     ]
    }
   ],
   "source": [
    "myStr = \"this is a long sentence pretend this is a review from mamazon\"\n",
    "reviewWordList = myStr.split()\n",
    "print(reviewWordList)"
   ]
  },
  {
   "cell_type": "code",
   "execution_count": 9,
   "metadata": {},
   "outputs": [],
   "source": [
    "def totalReviewSentiment(positiveWordsFile, negativeWordsFile, reviewsFile):\n",
    "    \n",
    "\n",
    "    posFileHandler = open(positiveWordsFile,\"r\")\n",
    "    posContent = posFileHandler.read() \n",
    "    posWordsList = posContent.splitlines() \n",
    "    \n",
    "    \n",
    "    #open the negative words file\n",
    "    #go through all the negative words\n",
    "    negFileHandler = open(negativeWordsFile,\"r\")\n",
    "    negContent = negFileHandler.read() \n",
    "    negWordsList = negContent.splitlines() \n",
    "    \n",
    "    \n",
    "    #create an empty dictionary like we would do with an empty list\n",
    "    posWordsDict = {}\n",
    "    negWordsDict = {}\n",
    "    \n",
    "    \n",
    "    #put those words into a positive word dictionary\n",
    "    for word in posWordsList:\n",
    "        posWordsDict[word] = 0\n",
    "    #put those words into a negative word dictionary\n",
    "    for word in negWordsList:\n",
    "        negWordsDict[word] = 0\n",
    "    \n",
    "    \n",
    "    ####################################################################################\n",
    "    \n",
    "    \n",
    "    # Open and read the review file\n",
    "    #Get all of the words from this file into a list\n",
    "    reviewsFileHandler = open(reviewsFile,\"r\")\n",
    "    reviewString = reviewsFileHandler.read()\n",
    "    reviewWordList = reviewString.split()\n",
    "    \n",
    "    \n",
    " \n",
    "    for word in reviewWordList:\n",
    "        if word in posWordsDict:\n",
    "            posWordsDict[word] += 1\n",
    "        if word in negWordsDict:\n",
    "            negWordsDict[word] += 1\n",
    "    \n",
    "    \n",
    "    ####################################################################################\n",
    "    \n",
    "    \n",
    "    # Count how many positive and negative words you've encountered\n",
    "    \n",
    "    #variables to store the total positive and total negative number of words we've encountered\n",
    "    totalPosWords = 0\n",
    "    totalNegWords = 0\n",
    "    \n",
    "    # Loop through the positive dictionary\n",
    "    for key in posWordsDict:\n",
    "        numTimesThisWordUsed = posWordsDict[key]\n",
    "        # Count how many total words were used\n",
    "        totalPosWords += numTimesThisWordUsed\n",
    "    print(\"total times a positive word was used in all of our reviews: \" + str(totalPosWords))\n",
    "        \n",
    "    # Loop through the negative dictionary\n",
    "    for key in negWordsDict:\n",
    "        numTimesThisWordUsed = negWordsDict[key]\n",
    "        # Count how many total words were used\n",
    "        totalNegWords += numTimesThisWordUsed\n",
    "    print(\"total times a negative word was used in all of our reviews: \" + str(totalNegWords))\n",
    "    \n",
    "    \n",
    "    # Return a string that lets us know if the majority of the reviews were positive or negative. \n",
    "    if totalPosWords > totalNegWords:\n",
    "        # If there are more positive reviews, return \"The Reviews are Mostly Positive\". \n",
    "        return \"The Reviews are Mostly Positive\"\n",
    "    #If there are more negative reviews, return \"The Reviews are Mostly Negative\".\n",
    "    else:\n",
    "        return \"The Reviews are Mostly Negative\"\n",
    "    "
   ]
  },
  {
   "cell_type": "code",
   "execution_count": 10,
   "metadata": {},
   "outputs": [
    {
     "name": "stdout",
     "output_type": "stream",
     "text": [
      "total times a positive word was used in all of our reviews: 613312\n",
      "total times a negative word was used in all of our reviews: 344311\n"
     ]
    },
    {
     "data": {
      "text/plain": [
       "'The Reviews are Mostly Positive'"
      ]
     },
     "execution_count": 10,
     "metadata": {},
     "output_type": "execute_result"
    }
   ],
   "source": [
    "totalReviewSentiment(\"positivewords.txt\",\"negativewords.txt\",\"reviews.txt\")"
   ]
  },
  {
   "cell_type": "code",
   "execution_count": 33,
   "metadata": {},
   "outputs": [
    {
     "name": "stdout",
     "output_type": "stream",
     "text": [
      "Total positive words used: 613312\n",
      "Total negative words used: 344299\n"
     ]
    },
    {
     "data": {
      "text/plain": [
       "'The Reviews Are Mostly Positive'"
      ]
     },
     "execution_count": 33,
     "metadata": {},
     "output_type": "execute_result"
    }
   ],
   "source": [
    "totalReviewSentiment(\"positivewords.txt\",\"negativewords.txt\",\"reviews.txt\")"
   ]
  },
  {
   "cell_type": "markdown",
   "metadata": {},
   "source": [
    "Phew. that is one long function! Is there any way we can make this function smaller?"
   ]
  },
  {
   "cell_type": "code",
   "execution_count": null,
   "metadata": {},
   "outputs": [],
   "source": []
  },
  {
   "cell_type": "code",
   "execution_count": 14,
   "metadata": {},
   "outputs": [],
   "source": [
    "def getEmptyPosDictionary(posWords):\n",
    "    #2. Create the dictionaries with their default values\n",
    "    posWordsDict = {}\n",
    "    for word in posWords:\n",
    "        if word not in posWordsDict:\n",
    "            posWordsDict[word] = 0\n",
    "    return posWordsDict"
   ]
  },
  {
   "cell_type": "code",
   "execution_count": 15,
   "metadata": {},
   "outputs": [],
   "source": [
    "def getEmptyNegDictionary(negWords):\n",
    "    negWordsDict = {}\n",
    "    for word in negWords:\n",
    "        if word not in negWordsDict:\n",
    "            negWordsDict[word] = 0\n",
    "            \n",
    "    return negWordsDict"
   ]
  },
  {
   "cell_type": "code",
   "execution_count": null,
   "metadata": {},
   "outputs": [],
   "source": [
    "def countWords(reviewsFile,posWordsDict,negWordsDict):\n",
    "    #3. Open the reviews + keep track of the pos/neg word counts in each dictionary\n",
    "    reviewsFileHandler = open(reviewsFile, \"r\")\n",
    "    allReviews = reviewsFileHandler.read()\n",
    "    allWords = allReviews.split()\n",
    "    for word in allWords:\n",
    "        if word in posWordsDict:\n",
    "            posWordsDict[word] += 1\n",
    "        elif word in negWordsDict:\n",
    "            negWordsDict[word] += 1\n",
    "    return[posWordsDict,negWordsDict]"
   ]
  },
  {
   "cell_type": "code",
   "execution_count": null,
   "metadata": {},
   "outputs": [],
   "source": [
    "def getPosNegCount(posWordsDict,negWordsDict):\n",
    "    #4. Calculate the final pos/neg word counts and return\n",
    "    totalPosWords = 0\n",
    "    totalNegWords = 0\n",
    "    for posWord in posWordsDict:\n",
    "        numTimesPosWordUsed = posWordsDict[posWord]\n",
    "        if numTimesPosWordUsed > 0:\n",
    "            totalPosWords += numTimesPosWordUsed\n",
    "    for negWord in negWordsDict:\n",
    "        numTimesNegWordUsed = negWordsDict[negWord]\n",
    "        if numTimesNegWordUsed > 0:\n",
    "            totalNegWords += numTimesNegWordUsed\n",
    "    return[totalPosWords,totalNegWords]"
   ]
  },
  {
   "cell_type": "code",
   "execution_count": 1,
   "metadata": {},
   "outputs": [],
   "source": [
    "\n",
    "def totalReviewSentiment(positiveWordsFile, negativeWordsFile, reviewsFile):\n",
    "    #1. Open the files and get the words in a list\n",
    "    posFileHandler = open(positiveWordsFile,\"r\")\n",
    "    posContent = posFileHandler.read()\n",
    "    posWords = posContent.splitlines()\n",
    "    \n",
    "    negFileHandler = open(negativeWordsFile,\"r\")\n",
    "    negContent = negFileHandler.read()\n",
    "    negWords = negContent.splitlines()\n",
    "    \n",
    "    #2. Create the dictionaries with their default values\n",
    "    posWordsDict = getEmptyPosDictionary(posWords)\n",
    "    negWordsDict = getEmptyNegDictionary(negWords)\n",
    "    \n",
    "    #3. Open the reviews + keep track of the pos/neg word counts in each dictionary\n",
    "    [posWordsDict,negWordsDict] = countWords(reviewsFile,posWordsDict,negWordsDict)\n",
    "    \n",
    "    #4. Calculate the final pos/neg word counts and return\n",
    "    [totalPosWords,totalNegWords] = getPosNegCount(posWordsDict,negWordsDict)\n",
    "    \n",
    "    print(\"Total positive words used: \" + str(totalPosWords))\n",
    "    print(\"Total negative words used: \" + str(totalNegWords))\n",
    "    \n",
    "    if totalPosWords > totalNegWords:\n",
    "        return(\"The Reviews Are Mostly Positive\")\n",
    "    else:\n",
    "        return(\"The Reviews Are Mostly Negative\")\n",
    "    "
   ]
  },
  {
   "cell_type": "code",
   "execution_count": null,
   "metadata": {},
   "outputs": [],
   "source": []
  },
  {
   "cell_type": "markdown",
   "metadata": {},
   "source": []
  },
  {
   "cell_type": "code",
   "execution_count": 2,
   "metadata": {},
   "outputs": [],
   "source": [
    "def reviewSentiment(review,posWordsDict,negWordsDict):\n",
    "    #your code here\n",
    "    \n",
    "    posWords = 0\n",
    "    negWords = 0\n",
    "    \n",
    "    #get all the words from the review\n",
    "    reviewWordsList = review.split()\n",
    "    \n",
    "    #loop through the words from the review\n",
    "    for word in reviewWordsList:\n",
    "        #1. is the word positive or negative?\n",
    "        if word in posWordsDict:\n",
    "            #do something\n",
    "            posWords += 1\n",
    "        #2. count how many positive and negative words we are encountering\n",
    "        if word in negWordsDict:\n",
    "            #do something\n",
    "            negWords += 1\n",
    "        \n",
    "    positiveSentiment = posWords / (posWords + negWords)\n",
    "    \n",
    "    #4. return a string that says whether this review is more positive or negative\n",
    "    print(positiveSentiment)\n",
    "    if positiveSentiment > 0.5:\n",
    "        print(\"This review has a positive sentiment\")\n",
    "    elif positiveSentiment < 0.5:\n",
    "        print(\"This review has a negative sentiment\")\n",
    "    else:\n",
    "        print(\"This review was entirely neutral\")"
   ]
  },
  {
   "cell_type": "code",
   "execution_count": 16,
   "metadata": {},
   "outputs": [],
   "source": [
    "\n",
    "posFileHandler = open(\"positivewords.txt\",\"r\")\n",
    "posContent = posFileHandler.read()\n",
    "posWords = posContent.splitlines()\n",
    "\n",
    "negFileHandler = open(\"negativewords.txt\",\"r\")\n",
    "negContent = negFileHandler.read()\n",
    "negWords = negContent.splitlines()\n",
    "\n",
    "posWordsDict = getEmptyPosDictionary(posWords)\n",
    "negWordsDict = getEmptyNegDictionary(negWords)\n",
    "\n"
   ]
  },
  {
   "cell_type": "code",
   "execution_count": 22,
   "metadata": {},
   "outputs": [
    {
     "name": "stdout",
     "output_type": "stream",
     "text": [
      "1.0\n",
      "This review has a positive sentiment\n"
     ]
    }
   ],
   "source": [
    "review = \"I really enjoyed this product!!!\"\n",
    "reviewSentiment(review,posWordsDict,negWordsDict)"
   ]
  },
  {
   "cell_type": "code",
   "execution_count": 23,
   "metadata": {},
   "outputs": [
    {
     "name": "stdout",
     "output_type": "stream",
     "text": [
      "0.0\n",
      "This review has a negative sentiment\n"
     ]
    }
   ],
   "source": [
    "review = \"I really hated this product!!!\"\n",
    "reviewSentiment(review,posWordsDict,negWordsDict)"
   ]
  },
  {
   "cell_type": "code",
   "execution_count": 24,
   "metadata": {},
   "outputs": [
    {
     "name": "stdout",
     "output_type": "stream",
     "text": [
      "0.5\n",
      "This review was entirely neutral\n"
     ]
    }
   ],
   "source": [
    "review = \"I really hated and loved this product but ultimately it was okay!!!\"\n",
    "reviewSentiment(review,posWordsDict,negWordsDict)"
   ]
  },
  {
   "cell_type": "code",
   "execution_count": null,
   "metadata": {},
   "outputs": [],
   "source": []
  }
 ],
 "metadata": {
  "kernelspec": {
   "display_name": "Python 3",
   "language": "python",
   "name": "python3"
  },
  "language_info": {
   "codemirror_mode": {
    "name": "ipython",
    "version": 3
   },
   "file_extension": ".py",
   "mimetype": "text/x-python",
   "name": "python",
   "nbconvert_exporter": "python",
   "pygments_lexer": "ipython3",
   "version": "3.7.6"
  }
 },
 "nbformat": 4,
 "nbformat_minor": 2
}
